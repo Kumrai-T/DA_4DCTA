{
 "cells": [
  {
   "cell_type": "code",
   "execution_count": null,
   "metadata": {
    "ExecuteTime": {
     "end_time": "2023-08-29T06:55:37.720706Z",
     "start_time": "2023-08-29T06:55:25.107435Z"
    },
    "scrolled": false
   },
   "outputs": [],
   "source": [
    "import sys,os\n",
    "sys.path.append(os.pardir)\n",
    "import pipeline, project\n",
    "import RevIN\n",
    "import gc\n",
    "import keras\n",
    "\n",
    "from keras import backend as K\n",
    "import tensorflow as tf\n",
    "import numpy as np\n",
    "\n",
    "proj_dir = './projects/'"
   ]
  },
  {
   "cell_type": "code",
   "execution_count": null,
   "metadata": {
    "ExecuteTime": {
     "end_time": "2023-08-29T06:57:24.858105Z",
     "start_time": "2023-08-29T06:55:37.722006Z"
    },
    "scrolled": false
   },
   "outputs": [],
   "source": [
    "pman = project.ProjectManager.load(proj_dir)\n",
    "pipe = pipeline.Pipeline(pman)\n",
    "nb_epoch = 100 \n",
    "num_node = 4\n",
    "num_layer = 1\n",
    "use_dropout = True\n",
    "feature_type = 'speed and acceleration'\n",
    "\n",
    "#-----SEIKA-----\n",
    "training_list = ['A01S', 'A02S', 'A03S', 'A04S', 'A05S'\n",
    "                , 'H01S', 'H02S', 'H03S', 'H04S', 'H05S', 'H06S'\n",
    "                , 'H07S', 'H08S', 'H09S', 'H10S', 'H11S'\n",
    "                , 'K01S', 'K02S', 'K03S', 'K04S', 'K05S', 'K06S', 'K07S', 'K08S'\n",
    "                , 'K09-1S', 'K09-2S', 'K10S', 'K11S', 'K12S', 'K13-1S', 'K14S'\n",
    "                , 'K15S', 'K16S', 'K18S', 'K19S', 'K20S', 'K22S'\n",
    "                , 'M01S', 'M03']\n",
    "\n",
    "testing_case = ['M02S', ]\n",
    "\n",
    "drop_prob = 0.5\n",
    "pipe.train(pman, nb_epoch, num_node, num_layer, use_dropout, drop_prob, feature_type, eval_method=\"given\"\n",
    "           , train_dir_base=training_list, test_case = testing_case\n",
    "           , test_dir_base=\"testM02S01\", additional_test_dir_bases=[\"blueM02S\",\"skyblueM02S\",\"greenM02S\",\n",
    "                                                                   \"yellowM02S\",\"redM02S\",\"testM02S02\",\n",
    "                                                                   \"testM02S03\"])"
   ]
  },
  {
   "cell_type": "code",
   "execution_count": null,
   "metadata": {},
   "outputs": [],
   "source": []
  }
 ],
 "metadata": {
  "kernelspec": {
   "display_name": "Python 3 (ipykernel)",
   "language": "python",
   "name": "python3"
  },
  "language_info": {
   "codemirror_mode": {
    "name": "ipython",
    "version": 3
   },
   "file_extension": ".py",
   "mimetype": "text/x-python",
   "name": "python",
   "nbconvert_exporter": "python",
   "pygments_lexer": "ipython3",
   "version": "3.8.15"
  }
 },
 "nbformat": 4,
 "nbformat_minor": 2
}
